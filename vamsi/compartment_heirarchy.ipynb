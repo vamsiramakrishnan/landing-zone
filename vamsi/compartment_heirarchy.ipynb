{
 "cells": [
  {
   "cell_type": "code",
   "execution_count": 1,
   "metadata": {},
   "outputs": [],
   "source": [
    "import oci\n",
    "import logging\n",
    "import json\n",
    "from operator import itemgetter\n",
    "import pprint\n",
    "import random\n",
    "import string\n",
    "import time\n",
    "from tqdm import tqdm\n",
    "\n",
    "%load_ext lab_black"
   ]
  },
  {
   "cell_type": "code",
   "execution_count": 2,
   "metadata": {},
   "outputs": [],
   "source": [
    "config = oci.config.from_file(profile_name=\"WOLFCOMPARTMENT\")\n",
    "tenancy_ocid = config[\"tenancy\"]\n",
    "logging.basicConfig()\n",
    "logging.getLogger(\"oci\").setLevel(logging.ERROR)\n",
    "with open(\"compartment_heirarchy.json\", \"r\") as stream:\n",
    "    compartment_heirarchy = json.load(stream)"
   ]
  },
  {
   "cell_type": "code",
   "execution_count": 3,
   "metadata": {},
   "outputs": [],
   "source": [
    "def print_compartment_creation_start(compartment_name):\n",
    "    print(\"--------------------------------------------------------------------\")\n",
    "    print(\"STARTED CREATING COMPARTMENT: {}\".format(compartment_name))\n",
    "    print(\"--------------------------------------------------------------------\")\n",
    "\n",
    "\n",
    "def print_compartment_creation_info(compartment):\n",
    "    print(\"--------------------------------------------------------------------\")\n",
    "    print(\"FINISHED CREATING COMPARTMENT: {}\".format(compartment[\"name\"]))\n",
    "    print(\"--------------------------------------------------------------------\")\n",
    "    print(\"COMPPARTMENT DETAILS\")\n",
    "    print(\"-----------------------------\")\n",
    "    print(\"compartment_name:  {}\".format(compartment[\"name\"]))\n",
    "    print(\"compartment_description:  {}\".format(compartment[\"description\"]))\n",
    "    print(\"compartment_ocid: {}\".format(compartment[\"id\"]))\n",
    "    print(\"parent_compartment_ocid: {}\".format(compartment[\"compartment_id\"]))\n",
    "    print()\n",
    "\n",
    "\n",
    "def print_compartment_deletion_info(compartment):\n",
    "    print(\"--------------------------------------------------------------------\")\n",
    "    print(\"STARTED DELETING COMPARTMENT: {}\".format(compartment[\"name\"]))\n",
    "    print(\"--------------------------------------------------------------------\")\n",
    "    print(\"COMPARTMENT DETAILS\")\n",
    "    print(\"-----------------------------\")\n",
    "    print(\"compartment_name:  {}\".format(compartment[\"name\"]))\n",
    "    print(\"compartment_description:  {}\".format(compartment[\"description\"]))\n",
    "    print(\"compartment_ocid: {}\".format(compartment[\"id\"]))\n",
    "    print(\"parent_compartment_ocid: {}\".format(compartment[\"compartment_id\"]))\n",
    "    print()\n",
    "\n",
    "\n",
    "def print_heirarchy_statistics(heirarchy):\n",
    "    compartment_names = extract_value_by_field(heirarchy, \"name\")\n",
    "    compartment_descriptions = extract_value_by_field(heirarchy, \"description\")\n",
    "    compartments_kv = dict(zip(compartment_names, compartment_descriptions))\n",
    "    formatted_heirarchy = pprint.pformat(heirarchy, indent=4)\n",
    "    print(\"INPUT FILE\")\n",
    "    print(\"--------------------------------\")\n",
    "    print(formatted_heirarchy)\n",
    "    print()\n",
    "    print(\"LIST OF COMPARTMENTS\")\n",
    "    print(\"------------------------------- \")\n",
    "    for compartment_name, compartment_description in compartments_kv.items():\n",
    "        print(\"COMPARTMENT NAME: {}\".format(compartment_name))\n",
    "        print(\"COMPARTMENT DESCRIPTION: {}\".format(compartment_description))\n",
    "        print()\n",
    "    print(\"--------------------------------\")\n",
    "    print(\"TOTAL NUMBER OF COMPARTMENTS: {}\".format(len(compartments_kv)))\n",
    "\n",
    "\n",
    "def print_existing_compartment_decorator():\n",
    "    print(\"----------------------------\")\n",
    "    print(\"Compartment already Exists\")\n",
    "    print(\"----------------------------\")\n",
    "    print(\"Skipping Compartment Creation\")\n",
    "\n",
    "\n",
    "def convert_response_to_dict(oci_response):\n",
    "    return oci.util.to_dict(oci_response.data)"
   ]
  },
  {
   "cell_type": "code",
   "execution_count": 4,
   "metadata": {},
   "outputs": [],
   "source": [
    "def extract_value_by_field(obj, key):\n",
    "    \"\"\"Pull all values of specified key from nested JSON.\"\"\"\n",
    "    arr = []\n",
    "\n",
    "    def extract(obj, arr, key):\n",
    "        \"\"\"Recursively search for values of key in JSON tree.\"\"\"\n",
    "        if isinstance(obj, dict):\n",
    "            for k, v in obj.items():\n",
    "                if isinstance(v, (dict, list)):\n",
    "                    extract(v, arr, key)\n",
    "                elif k == key:\n",
    "                    arr.append(v)\n",
    "        elif isinstance(obj, list):\n",
    "            for item in obj:\n",
    "                extract(item, arr, key)\n",
    "        return arr\n",
    "\n",
    "    results = extract(obj, arr, key)\n",
    "    return results"
   ]
  },
  {
   "cell_type": "code",
   "execution_count": 5,
   "metadata": {},
   "outputs": [],
   "source": [
    "def wait_until_compartment_is_active(client, compartment_id):\n",
    "    retries = 5\n",
    "    for i in tqdm(range(retries)):\n",
    "        try:\n",
    "            get_compartment_response = oci.wait_until(\n",
    "                client,\n",
    "                client.get_compartment(\n",
    "                    compartment_id, retry_strategy=oci.retry.DEFAULT_RETRY_STRATEGY,\n",
    "                ),\n",
    "                \"lifecycle_state\",\n",
    "                \"ACTIVE\",\n",
    "            )\n",
    "        except oci.exceptions.ServiceError as e:\n",
    "            if i < retries - 1:  # i is zero indexed\n",
    "                print(\"Tries \" + str(i) + \"/5\")\n",
    "                time.sleep(10)\n",
    "                continue\n",
    "            else:\n",
    "                raise\n",
    "        break\n",
    "    return True\n",
    "\n",
    "\n",
    "def create_compartment(\n",
    "    client,\n",
    "    parent_compartment_ocid,\n",
    "    compartment_name,\n",
    "    description=\"No Description\",\n",
    "    defined_tags=None,\n",
    "    freeform_tags=None,\n",
    "):\n",
    "    # Check if Current Compartment Exists\n",
    "    if not checkByName_if_compartment_exists(compartment_name, client):\n",
    "        # Create the Compartment Details\n",
    "        print_compartment_creation_start(compartment_name)\n",
    "        compartment_details = oci.identity.models.CreateCompartmentDetails(\n",
    "            compartment_id=parent_compartment_ocid,\n",
    "            name=compartment_name,\n",
    "            description=description,\n",
    "        )\n",
    "        # Create compartment and Wait for State\n",
    "        response = client.create_compartment(\n",
    "            create_compartment_details=compartment_details,\n",
    "            retry_strategy=oci.retry.DEFAULT_RETRY_STRATEGY,\n",
    "        )\n",
    "        compartment = convert_response_to_dict(response)\n",
    "        if wait_until_compartment_is_active(\n",
    "            client=client, compartment_id=compartment[\"id\"]\n",
    "        ):\n",
    "            print_compartment_creation_info(compartment=compartment)\n",
    "            return compartment\n",
    "    else:\n",
    "        print_existing_compartment_decorator()\n",
    "        compartment = fetchCompartment_by_name(\n",
    "            compartment_name=compartment_name, client=client\n",
    "        )\n",
    "        print_compartment_creation_info(compartment)\n",
    "        return compartment"
   ]
  },
  {
   "cell_type": "code",
   "execution_count": 6,
   "metadata": {},
   "outputs": [],
   "source": [
    "def checkByName_if_compartment_exists(compartment_name, client):\n",
    "    compartments = fetch_all_compartments_in_tenancy(client)\n",
    "    activeCompartments = filter_compartments_by_state(\n",
    "        compartmentList=compartments, compartmentState=\"ACTIVE\"\n",
    "    )\n",
    "    compartmentNames = extract_value_by_field(activeCompartments, \"name\")\n",
    "    if compartment_name in compartmentNames:\n",
    "        return True\n",
    "    else:\n",
    "        return False\n",
    "\n",
    "\n",
    "def checkByOCID_if_compartment_active(compartment_id, client):\n",
    "    compartment_response = client.get_compartment(\n",
    "        compartment_id=compartment_id, retry_strategy=oci.retry.DEFAULT_RETRY_STRATEGY,\n",
    "    )\n",
    "    compartment = convert_response_to_dict(compartment_response)\n",
    "    return True if compartment[\"lifecycle_state\"] == \"ACTIVE\" else False\n",
    "\n",
    "\n",
    "def fetchCompartment_by_name(compartment_name, client):\n",
    "    compartments = fetch_all_compartments_in_tenancy(client)\n",
    "    activeCompartments = filter_compartments_by_state(\n",
    "        compartmentList=compartments, compartmentState=\"ACTIVE\"\n",
    "    )\n",
    "    for compartment in activeCompartments:\n",
    "        if compartment_name == compartment[\"name\"]:\n",
    "            return compartment\n",
    "    print(\"Compartment {} not found \".format(compartment_name))\n",
    "    return None\n",
    "\n",
    "\n",
    "def filter_compartments_by_state(compartmentList=[], compartmentState=\"ACTIVE\"):\n",
    "    \"\"\"Filter Compartments by their lifecycle state, ACTIVE| DELETNG | DELETED | CREATING\"\"\"\n",
    "    filteredCompartments = [\n",
    "        compartment\n",
    "        for compartment in compartmentList\n",
    "        if compartment[\"lifecycle_state\"] == compartmentState\n",
    "    ]\n",
    "    return filteredCompartments\n",
    "\n",
    "\n",
    "def fetch_all_compartments_in_tenancy(client):\n",
    "    \"\"\"Fetch all Compartments in Tenancy , and look across all subtrees.\"\"\"\n",
    "    compartmentResponse = oci.pagination.list_call_get_all_results(\n",
    "        client.list_compartments,\n",
    "        compartment_id=tenancy_ocid,\n",
    "        limit=200,\n",
    "        access_level=\"ACCESSIBLE\",\n",
    "        compartment_id_in_subtree=True,\n",
    "        retry_strategy=oci.retry.DEFAULT_RETRY_STRATEGY,\n",
    "    )\n",
    "    return convert_response_to_dict(compartmentResponse)"
   ]
  },
  {
   "cell_type": "code",
   "execution_count": 7,
   "metadata": {},
   "outputs": [],
   "source": [
    "def create_compartment_heirarchy(heirarchy, client):\n",
    "    \"\"\"Recursive Function Implementation to call functions\"\"\"\n",
    "\n",
    "    def validate_inputDict_createCompartment(heirarchy, client, parent):\n",
    "        if \"name\" in heirarchy.keys() and \"description\" in heirarchy.keys():\n",
    "            compartment = create_compartment(\n",
    "                client=client,\n",
    "                parent_compartment_ocid=parent,\n",
    "                compartment_name=heirarchy[\"name\"],\n",
    "                description=heirarchy[\"description\"],\n",
    "            )\n",
    "            parent = compartment[\"id\"]\n",
    "        return parent\n",
    "\n",
    "    def recurse_compartment_heirarchy(heirarchy, client, parent):\n",
    "        if \"compartments\" in heirarchy.keys():\n",
    "            compartment_tree_traversal(\n",
    "                heirarchy[\"compartments\"], parent, client,\n",
    "            )\n",
    "\n",
    "    def compartment_tree_traversal(\n",
    "        input_compartment_heirarchy, parent_compartment_ocid, client\n",
    "    ):\n",
    "        if isinstance(input_compartment_heirarchy, dict):\n",
    "            parent_compartment_ocid = validate_inputDict_createCompartment(\n",
    "                heirarchy=input_compartment_heirarchy,\n",
    "                client=client,\n",
    "                parent=parent_compartment_ocid,\n",
    "            )\n",
    "            recurse_compartment_heirarchy(\n",
    "                heirarchy=input_compartment_heirarchy,\n",
    "                client=client,\n",
    "                parent=parent_compartment_ocid,\n",
    "            )\n",
    "\n",
    "        elif isinstance(input_compartment_heirarchy, list):\n",
    "            for item in tqdm(input_compartment_heirarchy):\n",
    "                if wait_until_compartment_is_active(client, parent_compartment_ocid):\n",
    "                    compartment_tree_traversal(item, parent_compartment_ocid, client)\n",
    "\n",
    "    compartment_tree_traversal(\n",
    "        input_compartment_heirarchy=heirarchy,\n",
    "        parent_compartment_ocid=tenancy_ocid,\n",
    "        client=client,\n",
    "    )"
   ]
  },
  {
   "cell_type": "code",
   "execution_count": 8,
   "metadata": {},
   "outputs": [],
   "source": [
    "def verify_ChildCompartment_deletionState(client, compartment_id):\n",
    "    ## FETCH ALL CHILD COMPARTMENTS FIRST\n",
    "    compartmentResponse = client.list_compartments(compartment_id=compartment_id)\n",
    "    compartmentList = convert_response_to_dict(compartmentResponse)\n",
    "    ## IF THERE ARE ANY CHILD COMPARTMENTS UNDER DELETION, WAIT UNTIL IT IS FINISHED\n",
    "    deletingCompartments = filter_compartments_by_state(\n",
    "        compartmentList=compartmentList, compartmentState=\"DELETING\"\n",
    "    )\n",
    "    if deletingCompartments:\n",
    "        for compartment in deletingCompartments:\n",
    "            new_compartment_id = compartment[\"id\"]\n",
    "            oci.wait_until(\n",
    "                client,\n",
    "                client.get_compartment(\n",
    "                    compartment_id=new_compartment_id,\n",
    "                    retry_strategy=oci.retry.DEFAULT_RETRY_STRATEGY,\n",
    "                ),\n",
    "                \"lifecycle_state\",\n",
    "                \"DELETED\",\n",
    "            )\n",
    "\n",
    "\n",
    "def recurse_And_Delete_Active_ChildCompartments(client, compartment_id):\n",
    "    ## FETCH ALL CHILD COMPARTMENTS FIRST\n",
    "    compartmentResponse = client.list_compartments(compartment_id=compartment_id)\n",
    "    compartmentList = convert_response_to_dict(compartmentResponse)\n",
    "    ## IF THERE ARE ANY ACTIVE CHILD COMPARTMENTS , RECURSE FURTHER\n",
    "    activeCompartments = filter_compartments_by_state(\n",
    "        compartmentList=compartmentList, compartmentState=\"ACTIVE\"\n",
    "    )\n",
    "    if activeCompartments:\n",
    "        for compartment in activeCompartments:\n",
    "            new_compartment_id = compartment[\"id\"]\n",
    "            deletedCompartment = delete_compartment_heirarchy(\n",
    "                compartment_id=new_compartment_id, client=client\n",
    "            )\n",
    "\n",
    "\n",
    "def mark_CurrentCompartment_For_Deletion(client, compartment_id):\n",
    "    ### CHECK IF CURRENT COMPARTMENT MARKED FOR DELETION IS ACTIVE\n",
    "    if checkByOCID_if_compartment_active(compartment_id=compartment_id, client=client):\n",
    "        deletedCompartment = client.delete_compartment(\n",
    "            compartment_id=compartment_id,\n",
    "            retry_strategy=oci.retry.DEFAULT_RETRY_STRATEGY,\n",
    "        )\n",
    "\n",
    "        deletedCompartment = oci.wait_until(\n",
    "            client,\n",
    "            client.get_compartment(\n",
    "                compartment_id=compartment_id,\n",
    "                retry_strategy=oci.retry.DEFAULT_RETRY_STRATEGY,\n",
    "            ),\n",
    "            \"lifecycle_state\",\n",
    "            \"DELETING\",\n",
    "        )\n",
    "        deletedCompartment = convert_response_to_dict(deletedCompartment)\n",
    "        print_compartment_deletion_info(deletedCompartment)\n",
    "    else:\n",
    "        deletedCompartment = client.get_compartment(\n",
    "            compartment_id=compartment_id,\n",
    "            retry_strategy=oci.retry.DEFAULT_RETRY_STRATEGY,\n",
    "        )\n",
    "        deletedCompartment = convert_response_to_dict(deletedCompartment)\n",
    "\n",
    "    return deletedCompartment"
   ]
  },
  {
   "cell_type": "code",
   "execution_count": 9,
   "metadata": {},
   "outputs": [],
   "source": [
    "def delete_compartment_heirarchy(client, compartment_id):\n",
    "    recurse_And_Delete_Active_ChildCompartments(\n",
    "        client=client, compartment_id=compartment_id\n",
    "    )\n",
    "    verify_ChildCompartment_deletionState(client=client, compartment_id=compartment_id)\n",
    "    deletedCompartment = mark_CurrentCompartment_For_Deletion(\n",
    "        client=client, compartment_id=compartment_id\n",
    "    )\n",
    "    return deletedCompartment"
   ]
  },
  {
   "cell_type": "code",
   "execution_count": 10,
   "metadata": {},
   "outputs": [
    {
     "name": "stderr",
     "output_type": "stream",
     "text": [
      "  0%|          | 0/2 [00:00<?, ?it/s]\n",
      "  0%|          | 0/5 [00:00<?, ?it/s]\u001b[A"
     ]
    },
    {
     "name": "stdout",
     "output_type": "stream",
     "text": [
      "INPUT FILE\n",
      "--------------------------------\n",
      "{   'compartments': [   {   'compartments': [   {   'compartments': [   {   'description': 'desc-c11',\n",
      "                                                                            'name': 'compartment-111'},\n",
      "                                                                        {   'compartments': [   {   'description': 'desc-c1111',\n",
      "                                                                                                    'name': 'compartment-1121'},\n",
      "                                                                                                {   'description': 'desc-c11',\n",
      "                                                                                                    'name': 'compartment-1122'}],\n",
      "                                                                            'description': 'desc-c112',\n",
      "                                                                            'name': 'compartment-112'}],\n",
      "                                                    'description': 'desc-c11',\n",
      "                                                    'name': 'compartment-11'},\n",
      "                                                {   'description': 'desc-c12',\n",
      "                                                    'name': 'compartment-12'}],\n",
      "                            'description': 'desc-c1',\n",
      "                            'name': 'compartment-1'},\n",
      "                        {   'compartments': [   {   'description': 'desc-c21',\n",
      "                                                    'name': 'compartment-21'},\n",
      "                                                {   'description': 'desc-c22',\n",
      "                                                    'name': 'compartment-22'}],\n",
      "                            'description': 'desc-c1',\n",
      "                            'name': 'compartment-2'}]}\n",
      "\n",
      "LIST OF COMPARTMENTS\n",
      "------------------------------- \n",
      "COMPARTMENT NAME: compartment-1\n",
      "COMPARTMENT DESCRIPTION: desc-c1\n",
      "\n",
      "COMPARTMENT NAME: compartment-11\n",
      "COMPARTMENT DESCRIPTION: desc-c11\n",
      "\n",
      "COMPARTMENT NAME: compartment-111\n",
      "COMPARTMENT DESCRIPTION: desc-c11\n",
      "\n",
      "COMPARTMENT NAME: compartment-112\n",
      "COMPARTMENT DESCRIPTION: desc-c112\n",
      "\n",
      "COMPARTMENT NAME: compartment-1121\n",
      "COMPARTMENT DESCRIPTION: desc-c1111\n",
      "\n",
      "COMPARTMENT NAME: compartment-1122\n",
      "COMPARTMENT DESCRIPTION: desc-c11\n",
      "\n",
      "COMPARTMENT NAME: compartment-12\n",
      "COMPARTMENT DESCRIPTION: desc-c12\n",
      "\n",
      "COMPARTMENT NAME: compartment-2\n",
      "COMPARTMENT DESCRIPTION: desc-c1\n",
      "\n",
      "COMPARTMENT NAME: compartment-21\n",
      "COMPARTMENT DESCRIPTION: desc-c21\n",
      "\n",
      "COMPARTMENT NAME: compartment-22\n",
      "COMPARTMENT DESCRIPTION: desc-c22\n",
      "\n",
      "--------------------------------\n",
      "TOTAL NUMBER OF COMPARTMENTS: 10\n"
     ]
    },
    {
     "name": "stderr",
     "output_type": "stream",
     "text": [
      "  0%|          | 0/5 [00:01<?, ?it/s]\n"
     ]
    },
    {
     "name": "stdout",
     "output_type": "stream",
     "text": [
      "----------------------------\n",
      "Compartment already Exists\n",
      "----------------------------\n",
      "Skipping Compartment Creation\n"
     ]
    },
    {
     "name": "stderr",
     "output_type": "stream",
     "text": [
      "\n",
      "  0%|          | 0/2 [00:00<?, ?it/s]\u001b[A\n",
      "\n",
      "  0%|          | 0/5 [00:00<?, ?it/s]\u001b[A\u001b[A"
     ]
    },
    {
     "name": "stdout",
     "output_type": "stream",
     "text": [
      "--------------------------------------------------------------------\n",
      "FINISHED CREATING COMPARTMENT: compartment-1\n",
      "--------------------------------------------------------------------\n",
      "COMPPARTMENT DETAILS\n",
      "-----------------------------\n",
      "compartment_name:  compartment-1\n",
      "compartment_description:  desc-c1\n",
      "compartment_ocid: ocid1.compartment.oc1..aaaaaaaagxwxagncpxdeqvzvcns347mfhndsjypvggi2wrdpx3i23q5svf2a\n",
      "parent_compartment_ocid: ocid1.tenancy.oc1..aaaaaaaaxsxbjdtgny772nhfum5uoaagal5mbv3g34i2is4v5ugqtm5wpqgq\n",
      "\n"
     ]
    },
    {
     "name": "stderr",
     "output_type": "stream",
     "text": [
      "  0%|          | 0/5 [00:00<?, ?it/s]\n"
     ]
    },
    {
     "name": "stdout",
     "output_type": "stream",
     "text": [
      "----------------------------\n",
      "Compartment already Exists\n",
      "----------------------------\n",
      "Skipping Compartment Creation\n"
     ]
    },
    {
     "name": "stderr",
     "output_type": "stream",
     "text": [
      "\n",
      "\n",
      "  0%|          | 0/2 [00:00<?, ?it/s]\u001b[A\u001b[A\n",
      "\n",
      "\n",
      "  0%|          | 0/5 [00:00<?, ?it/s]\u001b[A\u001b[A\u001b[A"
     ]
    },
    {
     "name": "stdout",
     "output_type": "stream",
     "text": [
      "--------------------------------------------------------------------\n",
      "FINISHED CREATING COMPARTMENT: compartment-11\n",
      "--------------------------------------------------------------------\n",
      "COMPPARTMENT DETAILS\n",
      "-----------------------------\n",
      "compartment_name:  compartment-11\n",
      "compartment_description:  desc-c11\n",
      "compartment_ocid: ocid1.compartment.oc1..aaaaaaaavzrhsm5rrh6jbwks45ydutxg6mylab566c4b5w22kb2ukkscg66a\n",
      "parent_compartment_ocid: ocid1.compartment.oc1..aaaaaaaagxwxagncpxdeqvzvcns347mfhndsjypvggi2wrdpx3i23q5svf2a\n",
      "\n"
     ]
    },
    {
     "name": "stderr",
     "output_type": "stream",
     "text": [
      "  0%|          | 0/5 [00:00<?, ?it/s]\n"
     ]
    },
    {
     "name": "stdout",
     "output_type": "stream",
     "text": [
      "----------------------------\n",
      "Compartment already Exists\n",
      "----------------------------\n",
      "Skipping Compartment Creation\n"
     ]
    },
    {
     "name": "stderr",
     "output_type": "stream",
     "text": [
      "\n",
      "\n",
      " 50%|█████     | 1/2 [00:01<00:01,  1.73s/it]\u001b[A\u001b[A\n",
      "\n",
      "\n",
      "  0%|          | 0/5 [00:00<?, ?it/s]\u001b[A\u001b[A\u001b[A"
     ]
    },
    {
     "name": "stdout",
     "output_type": "stream",
     "text": [
      "--------------------------------------------------------------------\n",
      "FINISHED CREATING COMPARTMENT: compartment-111\n",
      "--------------------------------------------------------------------\n",
      "COMPPARTMENT DETAILS\n",
      "-----------------------------\n",
      "compartment_name:  compartment-111\n",
      "compartment_description:  desc-c11\n",
      "compartment_ocid: ocid1.compartment.oc1..aaaaaaaaia7xgaeo3jwxoq6ob47kdlpcrgob7cysfseddq6zdyuz44covbfq\n",
      "parent_compartment_ocid: ocid1.compartment.oc1..aaaaaaaavzrhsm5rrh6jbwks45ydutxg6mylab566c4b5w22kb2ukkscg66a\n",
      "\n"
     ]
    },
    {
     "name": "stderr",
     "output_type": "stream",
     "text": [
      "  0%|          | 0/5 [00:00<?, ?it/s]\n"
     ]
    },
    {
     "name": "stdout",
     "output_type": "stream",
     "text": [
      "----------------------------\n",
      "Compartment already Exists\n",
      "----------------------------\n",
      "Skipping Compartment Creation\n"
     ]
    },
    {
     "name": "stderr",
     "output_type": "stream",
     "text": [
      "\n",
      "\n",
      "\n",
      "  0%|          | 0/2 [00:00<?, ?it/s]\u001b[A\u001b[A\u001b[A\n",
      "\n",
      "\n",
      "\n",
      "  0%|          | 0/5 [00:00<?, ?it/s]\u001b[A\u001b[A\u001b[A\u001b[A"
     ]
    },
    {
     "name": "stdout",
     "output_type": "stream",
     "text": [
      "--------------------------------------------------------------------\n",
      "FINISHED CREATING COMPARTMENT: compartment-112\n",
      "--------------------------------------------------------------------\n",
      "COMPPARTMENT DETAILS\n",
      "-----------------------------\n",
      "compartment_name:  compartment-112\n",
      "compartment_description:  desc-c112\n",
      "compartment_ocid: ocid1.compartment.oc1..aaaaaaaa3zqoe7uz2quo66oaqjzp3v7k5udapwtirrfgj2nc74od7brbbgdq\n",
      "parent_compartment_ocid: ocid1.compartment.oc1..aaaaaaaavzrhsm5rrh6jbwks45ydutxg6mylab566c4b5w22kb2ukkscg66a\n",
      "\n"
     ]
    },
    {
     "name": "stderr",
     "output_type": "stream",
     "text": [
      "  0%|          | 0/5 [00:00<?, ?it/s]\n"
     ]
    },
    {
     "name": "stdout",
     "output_type": "stream",
     "text": [
      "----------------------------\n",
      "Compartment already Exists\n",
      "----------------------------\n",
      "Skipping Compartment Creation\n"
     ]
    },
    {
     "name": "stderr",
     "output_type": "stream",
     "text": [
      "\n",
      "\n",
      "\n",
      " 50%|█████     | 1/2 [00:01<00:01,  1.67s/it]\u001b[A\u001b[A\u001b[A\n",
      "\n",
      "\n",
      "\n",
      "  0%|          | 0/5 [00:00<?, ?it/s]\u001b[A\u001b[A\u001b[A\u001b[A"
     ]
    },
    {
     "name": "stdout",
     "output_type": "stream",
     "text": [
      "--------------------------------------------------------------------\n",
      "FINISHED CREATING COMPARTMENT: compartment-1121\n",
      "--------------------------------------------------------------------\n",
      "COMPPARTMENT DETAILS\n",
      "-----------------------------\n",
      "compartment_name:  compartment-1121\n",
      "compartment_description:  desc-c1111\n",
      "compartment_ocid: ocid1.compartment.oc1..aaaaaaaas76lbwtql63eaoxj7kzlgrajmmjyanr335jdsfdmv55vf6je2qna\n",
      "parent_compartment_ocid: ocid1.compartment.oc1..aaaaaaaa3zqoe7uz2quo66oaqjzp3v7k5udapwtirrfgj2nc74od7brbbgdq\n",
      "\n"
     ]
    },
    {
     "name": "stderr",
     "output_type": "stream",
     "text": [
      "  0%|          | 0/5 [00:00<?, ?it/s]\n"
     ]
    },
    {
     "name": "stdout",
     "output_type": "stream",
     "text": [
      "----------------------------\n",
      "Compartment already Exists\n",
      "----------------------------\n",
      "Skipping Compartment Creation\n"
     ]
    },
    {
     "name": "stderr",
     "output_type": "stream",
     "text": [
      "\n",
      "\n",
      "\n",
      "100%|██████████| 2/2 [00:03<00:00,  1.65s/it]\u001b[A\u001b[A\u001b[A\n",
      "\n",
      "\n",
      "100%|██████████| 2/2 [00:06<00:00,  3.38s/it]\u001b[A\u001b[A\n",
      "\n",
      " 50%|█████     | 1/2 [00:08<00:08,  8.60s/it]\u001b[A\n",
      "\n",
      "  0%|          | 0/5 [00:00<?, ?it/s]\u001b[A\u001b[A"
     ]
    },
    {
     "name": "stdout",
     "output_type": "stream",
     "text": [
      "--------------------------------------------------------------------\n",
      "FINISHED CREATING COMPARTMENT: compartment-1122\n",
      "--------------------------------------------------------------------\n",
      "COMPPARTMENT DETAILS\n",
      "-----------------------------\n",
      "compartment_name:  compartment-1122\n",
      "compartment_description:  desc-c11\n",
      "compartment_ocid: ocid1.compartment.oc1..aaaaaaaapxjfynxtqrsgi2cmh3rhb4wciqazme3a25bcxxqszlgacjoyzgeq\n",
      "parent_compartment_ocid: ocid1.compartment.oc1..aaaaaaaa3zqoe7uz2quo66oaqjzp3v7k5udapwtirrfgj2nc74od7brbbgdq\n",
      "\n"
     ]
    },
    {
     "name": "stderr",
     "output_type": "stream",
     "text": [
      "  0%|          | 0/5 [00:00<?, ?it/s]\n"
     ]
    },
    {
     "name": "stdout",
     "output_type": "stream",
     "text": [
      "----------------------------\n",
      "Compartment already Exists\n",
      "----------------------------\n",
      "Skipping Compartment Creation\n"
     ]
    },
    {
     "name": "stderr",
     "output_type": "stream",
     "text": [
      "\n",
      "100%|██████████| 2/2 [00:10<00:00,  5.19s/it]\u001b[A\n",
      " 50%|█████     | 1/2 [00:12<00:12, 12.96s/it]\n",
      "  0%|          | 0/5 [00:00<?, ?it/s]\u001b[A"
     ]
    },
    {
     "name": "stdout",
     "output_type": "stream",
     "text": [
      "--------------------------------------------------------------------\n",
      "FINISHED CREATING COMPARTMENT: compartment-12\n",
      "--------------------------------------------------------------------\n",
      "COMPPARTMENT DETAILS\n",
      "-----------------------------\n",
      "compartment_name:  compartment-12\n",
      "compartment_description:  desc-c12\n",
      "compartment_ocid: ocid1.compartment.oc1..aaaaaaaa2j5sfguwrvtmdmw4bivybwyn7dzih4plaloqhxnoofhe5ad3jqqq\n",
      "parent_compartment_ocid: ocid1.compartment.oc1..aaaaaaaagxwxagncpxdeqvzvcns347mfhndsjypvggi2wrdpx3i23q5svf2a\n",
      "\n"
     ]
    },
    {
     "name": "stderr",
     "output_type": "stream",
     "text": [
      "  0%|          | 0/5 [00:00<?, ?it/s]\n"
     ]
    },
    {
     "name": "stdout",
     "output_type": "stream",
     "text": [
      "----------------------------\n",
      "Compartment already Exists\n",
      "----------------------------\n",
      "Skipping Compartment Creation\n"
     ]
    },
    {
     "name": "stderr",
     "output_type": "stream",
     "text": [
      "\n",
      "  0%|          | 0/2 [00:00<?, ?it/s]\u001b[A\n",
      "\n",
      "  0%|          | 0/5 [00:00<?, ?it/s]\u001b[A\u001b[A"
     ]
    },
    {
     "name": "stdout",
     "output_type": "stream",
     "text": [
      "--------------------------------------------------------------------\n",
      "FINISHED CREATING COMPARTMENT: compartment-2\n",
      "--------------------------------------------------------------------\n",
      "COMPPARTMENT DETAILS\n",
      "-----------------------------\n",
      "compartment_name:  compartment-2\n",
      "compartment_description:  desc-c1\n",
      "compartment_ocid: ocid1.compartment.oc1..aaaaaaaadrwwfloagoeovywpzoadtmjiomkovrbxchupgks4tgmr5bvri4ua\n",
      "parent_compartment_ocid: ocid1.tenancy.oc1..aaaaaaaaxsxbjdtgny772nhfum5uoaagal5mbv3g34i2is4v5ugqtm5wpqgq\n",
      "\n"
     ]
    },
    {
     "name": "stderr",
     "output_type": "stream",
     "text": [
      "  0%|          | 0/5 [00:00<?, ?it/s]\n"
     ]
    },
    {
     "name": "stdout",
     "output_type": "stream",
     "text": [
      "----------------------------\n",
      "Compartment already Exists\n",
      "----------------------------\n",
      "Skipping Compartment Creation\n"
     ]
    },
    {
     "name": "stderr",
     "output_type": "stream",
     "text": [
      "\n",
      " 50%|█████     | 1/2 [00:01<00:01,  1.64s/it]\u001b[A\n",
      "\n",
      "  0%|          | 0/5 [00:00<?, ?it/s]\u001b[A\u001b[A"
     ]
    },
    {
     "name": "stdout",
     "output_type": "stream",
     "text": [
      "--------------------------------------------------------------------\n",
      "FINISHED CREATING COMPARTMENT: compartment-21\n",
      "--------------------------------------------------------------------\n",
      "COMPPARTMENT DETAILS\n",
      "-----------------------------\n",
      "compartment_name:  compartment-21\n",
      "compartment_description:  desc-c21\n",
      "compartment_ocid: ocid1.compartment.oc1..aaaaaaaawujncz5ffnbmzjis6q6vlpcsnvd7tvrowkhsldcqo4x2a5dsghha\n",
      "parent_compartment_ocid: ocid1.compartment.oc1..aaaaaaaadrwwfloagoeovywpzoadtmjiomkovrbxchupgks4tgmr5bvri4ua\n",
      "\n"
     ]
    },
    {
     "name": "stderr",
     "output_type": "stream",
     "text": [
      "  0%|          | 0/5 [00:00<?, ?it/s]\n"
     ]
    },
    {
     "name": "stdout",
     "output_type": "stream",
     "text": [
      "----------------------------\n",
      "Compartment already Exists\n",
      "----------------------------\n",
      "Skipping Compartment Creation\n"
     ]
    },
    {
     "name": "stderr",
     "output_type": "stream",
     "text": [
      "\n",
      "100%|██████████| 2/2 [00:03<00:00,  1.66s/it]\u001b[A\n",
      "100%|██████████| 2/2 [00:18<00:00,  9.04s/it]"
     ]
    },
    {
     "name": "stdout",
     "output_type": "stream",
     "text": [
      "--------------------------------------------------------------------\n",
      "FINISHED CREATING COMPARTMENT: compartment-22\n",
      "--------------------------------------------------------------------\n",
      "COMPPARTMENT DETAILS\n",
      "-----------------------------\n",
      "compartment_name:  compartment-22\n",
      "compartment_description:  desc-c22\n",
      "compartment_ocid: ocid1.compartment.oc1..aaaaaaaan3tcjlkch2qpv5fl74yc2vefxy66cvnyihu3zyvodkqllqtbpmfq\n",
      "parent_compartment_ocid: ocid1.compartment.oc1..aaaaaaaadrwwfloagoeovywpzoadtmjiomkovrbxchupgks4tgmr5bvri4ua\n",
      "\n"
     ]
    },
    {
     "name": "stderr",
     "output_type": "stream",
     "text": [
      "\n"
     ]
    }
   ],
   "source": [
    "identity_client = oci.identity.IdentityClient(config)\n",
    "print_heirarchy_statistics(compartment_heirarchy)\n",
    "create_compartment_heirarchy(compartment_heirarchy, identity_client)"
   ]
  },
  {
   "cell_type": "code",
   "execution_count": null,
   "metadata": {},
   "outputs": [],
   "source": [
    "identity_client = oci.identity.IdentityClient(config)\n",
    "delete_compartment_heirarchy(identity_client, tenancy_ocid)"
   ]
  },
  {
   "cell_type": "code",
   "execution_count": null,
   "metadata": {},
   "outputs": [],
   "source": []
  }
 ],
 "metadata": {
  "kernelspec": {
   "display_name": "Python 3",
   "language": "python",
   "name": "python3"
  },
  "language_info": {
   "codemirror_mode": {
    "name": "ipython",
    "version": 3
   },
   "file_extension": ".py",
   "mimetype": "text/x-python",
   "name": "python",
   "nbconvert_exporter": "python",
   "pygments_lexer": "ipython3",
   "version": "3.6.8"
  }
 },
 "nbformat": 4,
 "nbformat_minor": 4
}
