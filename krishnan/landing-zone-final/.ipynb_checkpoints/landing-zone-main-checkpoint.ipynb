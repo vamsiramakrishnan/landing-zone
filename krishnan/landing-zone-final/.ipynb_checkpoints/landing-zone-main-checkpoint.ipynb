{
 "cells": [
  {
   "cell_type": "markdown",
   "metadata": {},
   "source": [
    "### Import all necessary Libraries\n",
    "* ***OCI*** - Python library that converts Python commands to OCI API Requests\n",
    "* ***JSON*** - For converting JSON to Python Dictionary"
   ]
  },
  {
   "cell_type": "code",
   "execution_count": null,
   "metadata": {},
   "outputs": [],
   "source": [
    "import oci\n",
    "import json"
   ]
  },
  {
   "cell_type": "markdown",
   "metadata": {},
   "source": [
    "### Utility and helper functions\n",
    "* ***json_sanity_check*** - Checks for the sanity of input JSON file \n",
    "* ***file_exist_check*** - Checks if the input JSON file exists\n",
    "* ***check_create_vcn*** - Checks if necessary dependent resources are created or exists and/or in available state, etc. Checks if this VCN already exists and creates one if it doesn't\n",
    "* ***check_create_drg*** - Checks if necessary dependent resources are created or exists and/or in available state, etc. Checks if this DRG already exists and creates one if it doesn't\n",
    "* ***check_create_drg_attachment*** - Checks if necessary dependent resources are created viz. exists and/or in available state, etc. Checks if this DRG is already to the VCN and attaches one if it doesn't\n",
    "* ***check_create_lpg*** - Checks if necessary dependent resources are created or exists and/or in available state, etc. Checks if this LPG already exists and creates one if it doesn't\n",
    "* ***check_connect_lpg*** - Checks if necessary dependent resources are created or exists and/or in available state, etc. Checks if the source and target LPG is already connected and connects if the connection doesn't exist\n",
    "* ***check_create_dhcp*** - Checks if necessary dependent resources are created viz. exists, available state, etc. Checks if this DHCP already exists and creates one if it doesn't - excludes default DHCP options\n",
    "* ***check_create_subnet*** - Checks if necessary dependent resources are created viz. exists, available state, etc. Checks if this subnet already exists and creates one if it doesn't"
   ]
  },
  {
   "cell_type": "code",
   "execution_count": null,
   "metadata": {},
   "outputs": [],
   "source": [
    "from utils import json_sanity_check\n",
    "from utils import file_exist_check\n",
    "from vcn_handlers import check_create_vcn\n",
    "from drg_handlers import check_create_drg\n",
    "from drg_attachment_handlers import check_create_drg_attachment\n",
    "from lpg_handlers import check_create_lpg\n",
    "from lpg_connection_handlers import check_connect_lpg\n",
    "from dhcp_handlers import check_create_dhcp\n",
    "from subnet_handlers import check_create_subnet"
   ]
  },
  {
   "cell_type": "markdown",
   "metadata": {},
   "source": [
    "### Read OCI Config and Create Clients \n",
    "- ***Virtual Network Client*** - Client to perform all network related actions on resources\n",
    "- ***Virtual Network Composite Operations*** - Client to perform an action on a resource and wait for it to enter a particular state (or states)."
   ]
  },
  {
   "cell_type": "code",
   "execution_count": null,
   "metadata": {},
   "outputs": [],
   "source": [
    "# Read config and create clients (identity,network,etc.)\n",
    "config = oci.config.from_file()\n",
    "virtual_network_client = oci.core.VirtualNetworkClient(config)\n",
    "virtual_network_composite_operations = oci.core.VirtualNetworkClientCompositeOperations(\n",
    "    virtual_network_client)"
   ]
  },
  {
   "cell_type": "markdown",
   "metadata": {},
   "source": [
    "### Main function that triggers execution landing zone\n",
    "- ***Check if input JSON input file exists***\n",
    "- ***Checks for sanity of JSON input file***\n",
    "- ***Create Hub VCN***\n",
    "- ***Create Spoke VCNs***\n",
    "- ***Create DRG on Hub VCN***\n",
    "- ***Attach created DRG in previous step to Hub VCN***\n",
    "- ***Create Local Peering Gateway (LPG) on Hub and Spoke VCNs***\n",
    "- ***Connect Hub and Spoke VCN through Local Peering Gateway (LPG) created in previous step***\n",
    "- ***Create Subnets for Hub***\n",
    "- ***Create Subnets for Spokes***"
   ]
  },
  {
   "cell_type": "code",
   "execution_count": null,
   "metadata": {},
   "outputs": [],
   "source": [
    "def read_file(filePath):\n",
    "    file_exists = file_exist_check(filePath)\n",
    "    if file_exists:\n",
    "        with open(filePath) as hub_spokes:\n",
    "            payload = json.load(hub_spokes)\n",
    "            sanity_check = json_sanity_check(payload)\n",
    "            if sanity_check:\n",
    "                hub = payload[\"hub\"]\n",
    "                hub_vcn = hub[\"vcn\"]\n",
    "                spokes = payload[\"spokes\"]\n",
    "                spoke_vcns = []\n",
    "                spoke_vcn_ocids = []\n",
    "\n",
    "                for spoke in spokes:\n",
    "                    spoke_vcns.append(spoke[\"vcn\"])\n",
    "\n",
    "                \"\"\"CREATE HUB VCN\"\"\"\n",
    "                hub_vcn_ocid = check_create_vcn(\n",
    "                    virtual_network_client, virtual_network_composite_operations, hub_vcn)\n",
    "\n",
    "                \"\"\"CREATE SPOKE VCNS\"\"\"\n",
    "                for index, spoke_vcn in enumerate(spoke_vcns):\n",
    "                    spoke_vcn_ocid = check_create_vcn(\n",
    "                        virtual_network_client, virtual_network_composite_operations, spoke_vcn)\n",
    "                    spoke_vcn_ocids.append(spoke_vcn_ocid)\n",
    "\n",
    "                \"\"\"CREATE HUB DRG\"\"\"\n",
    "                hub_drg_ocid = check_create_drg(\n",
    "                    virtual_network_client, hub_vcn[\"drg\"])\n",
    "\n",
    "                \"\"\"CREATE HUB DRG ATTACHMENT\"\"\"\n",
    "                hub_drg_attachment_ocid = check_create_drg_attachment(\n",
    "                    virtual_network_client, hub_vcn[\"drg\"], hub_vcn, hub_drg_ocid, hub_vcn_ocid)\n",
    "\n",
    "                \"\"\"CREATE HUB LPGs\"\"\"\n",
    "                hub_lpg_ocids = []\n",
    "                spoke_lpg_ocids = []\n",
    "\n",
    "                hub_lpg_ocids.append(check_create_lpg(\n",
    "                    virtual_network_client, virtual_network_composite_operations, hub_vcn, hub_vcn[\"lpg\"], hub_vcn_ocid))\n",
    "\n",
    "                for spoke_vcn in spoke_vcns:\n",
    "                    hub_lpg_ocids.append(check_create_lpg(\n",
    "                        virtual_network_client, virtual_network_composite_operations, hub_vcn, spoke_vcn[\"lpg\"], hub_vcn_ocid))\n",
    "\n",
    "                \"\"\"CREATE HUB AND SPOKE LPGs\"\"\"\n",
    "                for index, spoke_vcn_ocid in enumerate(spoke_vcn_ocids):\n",
    "                    spokes_list = list(spokes)\n",
    "                    spoke_lpg_ocids.append(check_create_lpg(virtual_network_client, virtual_network_composite_operations,\n",
    "                                                            spokes_list[index][\"vcn\"], spokes_list[index][\"vcn\"][\"lpg\"], spoke_vcn_ocid))\n",
    "\n",
    "                \"\"\"ATTACH HUB AND SPOKE VCN THROUGH LPGs\"\"\"\n",
    "                for hub, spoke in zip(spoke_lpg_ocids, hub_lpg_ocids):\n",
    "                    check_connect_lpg(virtual_network_client,\n",
    "                                      hub_vcn[\"lpg\"], hub, spoke)\n",
    "\n",
    "                \"\"\"CREATE SUBNET FOR HUB\"\"\"\n",
    "                hub_subnet_ocids = []\n",
    "                hub_subnet_dhcp_ocids = []\n",
    "                for subnet in hub_vcn[\"subnets\"]:\n",
    "                    subnet_ocid = check_create_subnet(\n",
    "                        virtual_network_client, subnet, hub_vcn_ocid)\n",
    "                    hub_subnet_ocids.append(subnet_ocid)\n",
    "                    hub_subnet_dhcp_ocid = check_create_dhcp(\n",
    "                        virtual_network_client, subnet[\"compartment_name\"], hub_vcn, hub_vcn_ocid, subnet[\"dhcp\"])\n",
    "                    hub_subnet_dhcp_ocids.append(hub_subnet_dhcp_ocid)\n",
    "\n",
    "                \"\"\"CREATE SUBNET FOR SPOKES\"\"\"\n",
    "                spoke_subnet = []\n",
    "                spoke_subnet_dhcp_ocids = []\n",
    "                for spoke_vcn_ocid, spoke_vcn in zip(spoke_vcn_ocids, spoke_vcns):\n",
    "                    for subnet in spoke_vcn[\"subnets\"]:\n",
    "                        subnet_ocid = check_create_subnet(\n",
    "                            virtual_network_client, subnet, spoke_vcn_ocid)\n",
    "                        spoke_subnet.append({spoke_vcn[\"name\"]: subnet})\n",
    "                        spoke_subnet_dhcp_ocid = check_create_dhcp(\n",
    "                            virtual_network_client, subnet[\"compartment_name\"], spoke_vcn, spoke_vcn_ocid, subnet[\"dhcp\"])\n",
    "                        spoke_subnet_dhcp_ocids.append(spoke_subnet_dhcp_ocid)\n"
   ]
  },
  {
   "cell_type": "code",
   "execution_count": null,
   "metadata": {},
   "outputs": [],
   "source": [
    "read_file('./hub_spokes.json')"
   ]
  },
  {
   "cell_type": "code",
   "execution_count": null,
   "metadata": {},
   "outputs": [],
   "source": []
  }
 ],
 "metadata": {
  "kernelspec": {
   "display_name": "Python 3",
   "language": "python",
   "name": "python3"
  },
  "language_info": {
   "codemirror_mode": {
    "name": "ipython",
    "version": 3
   },
   "file_extension": ".py",
   "mimetype": "text/x-python",
   "name": "python",
   "nbconvert_exporter": "python",
   "pygments_lexer": "ipython3",
   "version": "3.6.8"
  }
 },
 "nbformat": 4,
 "nbformat_minor": 4
}
